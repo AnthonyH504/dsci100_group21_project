{
 "cells": [
  {
   "cell_type": "code",
   "execution_count": null,
   "metadata": {},
   "outputs": [],
   "source": [
    "library(tidyverse)\n",
    "library(repr)\n",
    "library(tidymodels)\n",
    "library(GGally)\n",
    "library(ISLR)"
   ]
  },
  {
   "cell_type": "code",
   "execution_count": null,
   "metadata": {},
   "outputs": [],
   "source": [
    "\n",
    "rd<-read_csv(\"https://archive.ics.uci.edu/ml/machine-learning-databases/heart-disease/processed.cleveland.data\",\n",
    "             col_names=c(\"age\",\"sex\",\"cp\",\"trestbps\",\"chol\",\"fbs\",\"restecg\",\"thalach\",\"exang\",\"oldpeak\",\"slope\",\"ca\",\"thal\",\"the_predicted_attribute\"))\n",
    "rd\n",
    "HD_selected<-select(rd,age,sex,trestbps,chol,thalach,cp,the_predicted_attribute)\n",
    "\n",
    "HD_mutated<-HD_selected%>%\n",
    "            mutate(the_predicted_attribute=ifelse(the_predicted_attribute==0,\"Negative\",\"Positive\"))%>%\n",
    "            mutate(the_predicted_attribute=as.factor(the_predicted_attribute))#%>%\n",
    "            #mutate(cp=as.factor(cp))\n",
    "HD_mutated\n",
    "HD_mutated_male<-HD_mutated%>%\n",
    "        filter(sex==\"1\")\n",
    "HD_mutated_female<-HD_mutated%>%\n",
    "        filter(sex==\"0\")\n",
    "HD_split <- initial_split(HD_mutated, prop = 3/4, strata = the_predicted_attribute)  \n",
    "HD_train <- training(HD_split)   \n",
    "HD_test  <- testing(HD_split)\n",
    "HD_summarize<-HD_mutated%>%\n",
    "            group_by(sex,the_predicted_attribute)%>%\n",
    "            summarize(mean(chol),mean(thalach),mean(trestbps))%>%\n",
    "            mutate(sex=ifelse(sex==1,\"Male\",\"Female\"))\n",
    "HD_summarize\n",
    "HD_summarize_2<-HD_mutated%>%\n",
    "group_by(the_predicted_attribute)%>%\n",
    "summarize(mean=mean(trestbps),median=median(trestbps))\n",
    "HD_summarize_2"
   ]
  },
  {
   "cell_type": "code",
   "execution_count": null,
   "metadata": {},
   "outputs": [],
   "source": [
    "HD_summarize_3<-HD_mutated%>%\n",
    "group_by(the_predicted_attribute)%>%\n",
    "summarize(mean=mean(chol),median=median(chol))\n",
    "ggplot(HD_mutated,aes(x=chol,fill=the_predicted_attribute))+\n",
    "geom_histogram()+\n",
    "facet_grid(rows = vars(the_predicted_attribute))\n",
    "HD_summarize_3"
   ]
  },
  {
   "cell_type": "code",
   "execution_count": null,
   "metadata": {},
   "outputs": [],
   "source": [
    "HD_summarize_3<-HD_mutated%>%\n",
    "group_by(the_predicted_attribute)%>%\n",
    "summarize(mean=mean(chol),median=median(chol))\n",
    "HD_summarize_3\n",
    "pull(filter(HD_summarize_3,the_predicted_attribute==\"Negative\"),median)"
   ]
  },
  {
   "cell_type": "code",
   "execution_count": null,
   "metadata": {},
   "outputs": [],
   "source": [
    "ggplot(HD_mutated,aes(x=trestbps,fill=the_predicted_attribute))+\n",
    "geom_histogram()+\n",
    "facet_grid(rows = vars(the_predicted_attribute))"
   ]
  },
  {
   "cell_type": "code",
   "execution_count": null,
   "metadata": {},
   "outputs": [],
   "source": [
    "ggplot(HD_mutated,aes(x=thalach,fill=the_predicted_attribute))+\n",
    "geom_histogram()+\n",
    "facet_grid(rows = vars(the_predicted_attribute))\n",
    "HD_summarize_3<-HD_mutated%>%\n",
    "group_by(the_predicted_attribute)%>%\n",
    "summarize(mean=mean(thalach),median=median(thalach))\n",
    "HD_summarize_3"
   ]
  },
  {
   "cell_type": "code",
   "execution_count": null,
   "metadata": {},
   "outputs": [],
   "source": [
    "ggplot(HD_mutated,aes(x=cp,fill=the_predicted_attribute))+\n",
    "geom_histogram()"
   ]
  },
  {
   "cell_type": "code",
   "execution_count": null,
   "metadata": {},
   "outputs": [],
   "source": [
    "set.seed(7594) \n",
    "HD_recipe<-recipe(the_predicted_attribute ~age+sex+ thalach+chol+cp, data=HD_train) %>%\n",
    "                step_scale(all_predictors()) %>%\n",
    "                step_center(all_predictors())\n",
    "HD_spec<- nearest_neighbor(weight_func =\"rectangular\" , neighbors = tune()) %>% #I can't use the tune function here\n",
    "       set_engine(\"kknn\") %>%\n",
    "       set_mode(\"classification\")\n",
    "HD_spec\n",
    "HD_vfold<-vfold_cv(HD_train, v = 5, strata = the_predicted_attribute)\n",
    "HD_fit <- workflow() %>%\n",
    "       add_recipe(HD_recipe) %>%\n",
    "       add_model(HD_spec) %>%\n",
    "         tune_grid(resamples = HD_vfold, grid =tibble(neighbors = seq(from = 1, to = 60))) %>%\n",
    "       collect_metrics()\n",
    "HD_fit"
   ]
  },
  {
   "cell_type": "code",
   "execution_count": null,
   "metadata": {},
   "outputs": [],
   "source": [
    "accuracy_graph<-HD_fit%>%\n",
    "        filter(.metric==\"accuracy\")%>%\n",
    "        ggplot(aes(x=neighbors,y=mean))+\n",
    "        geom_line()\n",
    "accuracy_graph"
   ]
  },
  {
   "cell_type": "code",
   "execution_count": null,
   "metadata": {},
   "outputs": [],
   "source": [
    "HD_best_spec<- nearest_neighbor(weight_func =\"rectangular\" , neighbors = 20) %>% #I can't use the tune function here\n",
    "       set_engine(\"kknn\") %>%\n",
    "       set_mode(\"classification\")\n",
    "HD_best_spec\n",
    "HD_vfold<-vfold_cv(HD_train, v = 5, strata = the_predicted_attribute)\n",
    "HD_best_fit <- workflow() %>%\n",
    "       add_recipe(HD_recipe) %>%\n",
    "       add_model(HD_best_spec) %>%\n",
    "         fit(data=HD_train)\n",
    "HD_best_fit"
   ]
  },
  {
   "cell_type": "code",
   "execution_count": null,
   "metadata": {},
   "outputs": [],
   "source": [
    "HD_test_predictions<-predict(HD_best_fit,HD_test)%>%\n",
    "            bind_cols(HD_test)\n",
    "HD_prediction_accuracy <- HD_test_predictions %>%\n",
    "         metrics(truth = the_predicted_attribute, estimate = .pred_class)  \n",
    "HD_prediction_accuracy\n",
    "conf_mat(HD_test_predictions,truth = the_predicted_attribute, estimate = .pred_class)"
   ]
  },
  {
   "cell_type": "code",
   "execution_count": null,
   "metadata": {},
   "outputs": [],
   "source": [
    "graph_analysis<-HD_mutated%>%\n",
    "                ggplot()+\n",
    "                geom_point(data=HD_test,\n",
    "                           mapping = aes(x = chol, \n",
    "                           y = thalach, \n",
    "                           color = the_predicted_attribute),\n",
    "                          alpha=0.75)+\n",
    "                geom_point(data=HD_test_predictions,\n",
    "                          mapping = aes(x = chol, \n",
    "                           y = thalach, \n",
    "                           color = the_predicted_attribute),\n",
    "                          alpha=0.5,\n",
    "                          size=5)\n",
    "                scale_color_manual(labels = c(\"Positive\", \"Negative\"), \n",
    "                     values = c(\"orange\", \"steelblue\"))\n",
    "graph_analysis"
   ]
  },
  {
   "cell_type": "code",
   "execution_count": null,
   "metadata": {},
   "outputs": [],
   "source": []
  },
  {
   "cell_type": "code",
   "execution_count": null,
   "metadata": {},
   "outputs": [],
   "source": []
  }
 ],
 "metadata": {
  "kernelspec": {
   "display_name": "R",
   "language": "R",
   "name": "ir"
  },
  "language_info": {
   "codemirror_mode": "r",
   "file_extension": ".r",
   "mimetype": "text/x-r-source",
   "name": "R",
   "pygments_lexer": "r",
   "version": "4.0.0"
  }
 },
 "nbformat": 4,
 "nbformat_minor": 4
}
