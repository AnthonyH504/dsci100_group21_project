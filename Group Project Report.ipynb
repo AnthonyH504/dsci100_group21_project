{
 "cells": [
  {
   "cell_type": "markdown",
   "metadata": {},
   "source": [
    "# Group 21 Project Report"
   ]
  },
  {
   "cell_type": "markdown",
   "metadata": {},
   "source": [
    "## Introduction\n",
    "\n",
    "Heart disease is one of the leading causes of death in Canada. It encompasses all kinds of heart conditions such as coronary heart disease, heart defects, and arrythmia’s (irregularity in heartbeat). To better understand heart disease, it is important to look at the key factors that influence an individual’s risk of having this condition. In this project we will be looking at five different factors that have a correlation with heart disease. These factors are cholesterol, maximum heart rate, sex, age, and chest pain. These will be used as predictors in this project.\n",
    "\n",
    "So how are each of these  predictors associated with heart disease? Based on scientific literature, high blood pressure places extra exertion on blood vessels, increasing tension on the arteries, which decreases blood flow to major organs and oxygen to the heart. Aside from this, people who have high levels of cholesterol could have fat deposits build up in the arteries, making it  challenging for blood to flow freely through the body. Additionally, regarding maximum heart rate, reaching the ideal heart rate range can indicate a healthy heart in good condition. If it exceeds a healthy range, the maximum heart rate of a patient can be used as an indicator of a potential heart issue. A common factor in many kinds of diseases is an increase in age, which is often correlated with a higher risk for heart disease. Lastly, incidence of chest pain can be a risk factor for heart disease if evaluated at abnormal levels. The data base classifies the chest pain type by typical chest pain (angina), atypical angina, no chest pain, and asymptomatic.\n",
    "\n",
    "The question we want to answer is: are we able to predict whether a patient has heart disease based on their health profile? \n",
    "\n",
    "The information used to answer this question will be from the heart disease dataset, and used to create an accurate prediction model to classify new data. The heart disease data set encompasses 14 factors, in which five of them will be used as predictors and diagnosis of heart disease is what we will be predicting."
   ]
  },
  {
   "cell_type": "markdown",
   "metadata": {},
   "source": [
    "## Methods\n",
    "\n",
    "To answer our research question, we used the heart disease data collected from the Cleveland hospital. Initially, cholesterol levels (chol), resting blood pressure (trestbps), age (age), chest pain (cp), and maximum heart rate (thalach) are the five variables that were used as the predictors in our classification model, due to their aforementioned strong association with heart disease. We used the K-nearest neighbors classification algorithm to predict the presence of heart disease, denoted the “predicted attribute” in our code, which we have simplified to a binary factor that indicates its presence or absence, denoted as \"Positive\" or \"Negative\" respectively. For our preliminary exploratory data analysis, we summarized the Cleaveland hospital data into a data frame that grouped the patient data by their respective sex (male or female) and heart condition (Positive or Negative for heart disease) in order to calculate the mean values of three quantifiable predictors: cholesterol, resting blood pressure, and maximum heart rate. This was done to see if patients with heart disease tend to have higher mean values of the aforementioned variables, before visualizating the data.\n",
    "\n",
    "These mean values revelead that a higher maximum heart rate does not necessarily lead to heart disease, as the maximum heart rate achieved in positive patients was actually lower than the mean value in negative patients, which is contrary to our expectations. To visualize this trend, a histogram that expressed the distribution of patients with varying maximum heart rates was created, which reinforced the notion that a higher maximum heart rate was not measured in patients with heart disease, as positive cases had a heart rate distribution that was skewed lower compared to negative cases (reaffirmed by a lower median). Likewise, analyzing the mean and median values of cholesterol levels revealed that positive cases had slightly higher distributions of cholesterol levels, which was expected based on literature. To better understand the age demographic of this data set, we calculated the mean age of the patients, which were grouped seperately by their heart condition (whether positive or negative for heart disease). While the mean and median ages were similar (around the mid 50's range), our summary data frame revealed that the positive cases recorded in this data set had a slightly higher mean and median age, meaning the positive patients were slightly older than the negative ones on average. This observation did not detract from age being a predictor in our model, but is certainly something to consider in light of our findings, since an increase in age is linked to heart disease in literature.\n",
    "\n",
    "To visualize and analyze chest pain as a predictor, we created a bar graph quantifying the number of patients with varying levels of chest pain, 1 corresponding to typical, 2 to atypical, 3 to no pain, and 4 to asymptomatic. Profoundly, this showed that asymptomatic chest pain was associated with positive cases, while the remaining levels of chest pain were mostly found in negative patients. However, grouping by sex revealed that there were differences between males and females in their resting blood pressure, cholesterol levels, and maximum heart rate, suggesting that it may a valuable predictor to add to our model. Regarding the resting blood pressure (trestbps), our summary data of the mean and median blood pressure between positive and negative cases revealed that blood pressure did not appreciably affect the incidence of heart disease, since the medians and means were almost indentical, and were centered similarily on our blood pressure histogram. As such, contrary to our original approach, we believed that blood pressure would not be a useful predictor in our model, and was removed before proceeding further. Altogether, exploratory data analysis resulted in the inclusion of sex into our model, replacing resting blood pressure, leaving our five predictors as age (age), sex (sex), chest pain (cp), maximum heart rate (thalach), and cholesterol (chol).\n",
    "\n",
    "To begin constructing our model, we started by splitting our data into a training and a testing set. 75% of the total data was used as training data, while the remaining 25% was used as testing data -- set aside and untouched. Our training set was further subdivided into training and validation sets by virtue of five fold cross-validation; this was done to increase the accuracy of our prediction by determining the optimal K value to tune our model, without using our testing data. We then created our recipe which included the five aforementioned predictors: age, sex, chest pain, maximum heart rate, and cholesterol -- with all predictors scaled and centered to achieve equal weighting. We then created our model specification that employed K-nearest neighbors by calculating the straight-line distance with an array of K values from 1-60. Both the model and recipe were passed into our workflow to collect accuracy metrics on our different K values, which we analyzed to select the optimal K value. Determining the optimal K value for our model was done by creating a visualization that plotted accuracy against the K values of 1 through 60. From the plot, we determined that the optimal K value was 52, since the graph plateaus between 50-55, and occurs at the second highest accuracy peak in the graph (the first peak at K = 5 was too narrow, and thus ignored). Using K = 52 in our model yielded an accuracy of 82.67%, as observed in our accuracy metrics data frame.\n",
    "\n",
    "Finally, to visualize our prediction model, we created a scatter plot that illustrated the correlation between cholesterol and maximum heart rate, which where two predictors that we studied extensively during our exploratory data analysis. The points were coloured based on the presence of heart disease in each patient (as predicted by our model), as indicated in our corresponding plot legend. In general, the graph reveals that a higher maximum heart rate correlated (although loosely) with positive cases, which aligns with our original hypothesis. However, it appears that having higher serum cholesterol levels does not lead to a positive classification for heart disease, and was seemingly uninfluential."
   ]
  },
  {
   "cell_type": "code",
   "execution_count": 8,
   "metadata": {},
   "outputs": [],
   "source": [
    "library(tidyverse)\n",
    "library(repr)\n",
    "library(tidymodels)\n",
    "library(GGally)\n",
    "library(ISLR)"
   ]
  },
  {
   "cell_type": "code",
   "execution_count": 9,
   "metadata": {},
   "outputs": [
    {
     "name": "stderr",
     "output_type": "stream",
     "text": [
      "Parsed with column specification:\n",
      "cols(\n",
      "  age = \u001b[32mcol_double()\u001b[39m,\n",
      "  sex = \u001b[32mcol_double()\u001b[39m,\n",
      "  cp = \u001b[32mcol_double()\u001b[39m,\n",
      "  trestbps = \u001b[32mcol_double()\u001b[39m,\n",
      "  chol = \u001b[32mcol_double()\u001b[39m,\n",
      "  fbs = \u001b[32mcol_double()\u001b[39m,\n",
      "  restecg = \u001b[32mcol_double()\u001b[39m,\n",
      "  thalach = \u001b[32mcol_double()\u001b[39m,\n",
      "  exang = \u001b[32mcol_double()\u001b[39m,\n",
      "  oldpeak = \u001b[32mcol_double()\u001b[39m,\n",
      "  slope = \u001b[32mcol_double()\u001b[39m,\n",
      "  ca = \u001b[31mcol_character()\u001b[39m,\n",
      "  thal = \u001b[31mcol_character()\u001b[39m,\n",
      "  the_predicted_attribute = \u001b[32mcol_double()\u001b[39m\n",
      ")\n",
      "\n"
     ]
    },
    {
     "name": "stdout",
     "output_type": "stream",
     "text": [
      "[1] \"Cleaveland Heart Disease Data (clean)\"\n"
     ]
    },
    {
     "data": {
      "text/html": [
       "<table>\n",
       "<caption>A tibble: 303 × 7</caption>\n",
       "<thead>\n",
       "\t<tr><th scope=col>age</th><th scope=col>sex</th><th scope=col>trestbps</th><th scope=col>chol</th><th scope=col>thalach</th><th scope=col>cp</th><th scope=col>the_predicted_attribute</th></tr>\n",
       "\t<tr><th scope=col>&lt;dbl&gt;</th><th scope=col>&lt;dbl&gt;</th><th scope=col>&lt;dbl&gt;</th><th scope=col>&lt;dbl&gt;</th><th scope=col>&lt;dbl&gt;</th><th scope=col>&lt;dbl&gt;</th><th scope=col>&lt;fct&gt;</th></tr>\n",
       "</thead>\n",
       "<tbody>\n",
       "\t<tr><td>63</td><td>1</td><td>145</td><td>233</td><td>150</td><td>1</td><td>Negative</td></tr>\n",
       "\t<tr><td>67</td><td>1</td><td>160</td><td>286</td><td>108</td><td>4</td><td>Positive</td></tr>\n",
       "\t<tr><td>67</td><td>1</td><td>120</td><td>229</td><td>129</td><td>4</td><td>Positive</td></tr>\n",
       "\t<tr><td>37</td><td>1</td><td>130</td><td>250</td><td>187</td><td>3</td><td>Negative</td></tr>\n",
       "\t<tr><td>41</td><td>0</td><td>130</td><td>204</td><td>172</td><td>2</td><td>Negative</td></tr>\n",
       "\t<tr><td>56</td><td>1</td><td>120</td><td>236</td><td>178</td><td>2</td><td>Negative</td></tr>\n",
       "\t<tr><td>62</td><td>0</td><td>140</td><td>268</td><td>160</td><td>4</td><td>Positive</td></tr>\n",
       "\t<tr><td>57</td><td>0</td><td>120</td><td>354</td><td>163</td><td>4</td><td>Negative</td></tr>\n",
       "\t<tr><td>63</td><td>1</td><td>130</td><td>254</td><td>147</td><td>4</td><td>Positive</td></tr>\n",
       "\t<tr><td>53</td><td>1</td><td>140</td><td>203</td><td>155</td><td>4</td><td>Positive</td></tr>\n",
       "\t<tr><td>57</td><td>1</td><td>140</td><td>192</td><td>148</td><td>4</td><td>Negative</td></tr>\n",
       "\t<tr><td>56</td><td>0</td><td>140</td><td>294</td><td>153</td><td>2</td><td>Negative</td></tr>\n",
       "\t<tr><td>56</td><td>1</td><td>130</td><td>256</td><td>142</td><td>3</td><td>Positive</td></tr>\n",
       "\t<tr><td>44</td><td>1</td><td>120</td><td>263</td><td>173</td><td>2</td><td>Negative</td></tr>\n",
       "\t<tr><td>52</td><td>1</td><td>172</td><td>199</td><td>162</td><td>3</td><td>Negative</td></tr>\n",
       "\t<tr><td>57</td><td>1</td><td>150</td><td>168</td><td>174</td><td>3</td><td>Negative</td></tr>\n",
       "\t<tr><td>48</td><td>1</td><td>110</td><td>229</td><td>168</td><td>2</td><td>Positive</td></tr>\n",
       "\t<tr><td>54</td><td>1</td><td>140</td><td>239</td><td>160</td><td>4</td><td>Negative</td></tr>\n",
       "\t<tr><td>48</td><td>0</td><td>130</td><td>275</td><td>139</td><td>3</td><td>Negative</td></tr>\n",
       "\t<tr><td>49</td><td>1</td><td>130</td><td>266</td><td>171</td><td>2</td><td>Negative</td></tr>\n",
       "\t<tr><td>64</td><td>1</td><td>110</td><td>211</td><td>144</td><td>1</td><td>Negative</td></tr>\n",
       "\t<tr><td>58</td><td>0</td><td>150</td><td>283</td><td>162</td><td>1</td><td>Negative</td></tr>\n",
       "\t<tr><td>58</td><td>1</td><td>120</td><td>284</td><td>160</td><td>2</td><td>Positive</td></tr>\n",
       "\t<tr><td>58</td><td>1</td><td>132</td><td>224</td><td>173</td><td>3</td><td>Positive</td></tr>\n",
       "\t<tr><td>60</td><td>1</td><td>130</td><td>206</td><td>132</td><td>4</td><td>Positive</td></tr>\n",
       "\t<tr><td>50</td><td>0</td><td>120</td><td>219</td><td>158</td><td>3</td><td>Negative</td></tr>\n",
       "\t<tr><td>58</td><td>0</td><td>120</td><td>340</td><td>172</td><td>3</td><td>Negative</td></tr>\n",
       "\t<tr><td>66</td><td>0</td><td>150</td><td>226</td><td>114</td><td>1</td><td>Negative</td></tr>\n",
       "\t<tr><td>43</td><td>1</td><td>150</td><td>247</td><td>171</td><td>4</td><td>Negative</td></tr>\n",
       "\t<tr><td>40</td><td>1</td><td>110</td><td>167</td><td>114</td><td>4</td><td>Positive</td></tr>\n",
       "\t<tr><td>⋮</td><td>⋮</td><td>⋮</td><td>⋮</td><td>⋮</td><td>⋮</td><td>⋮</td></tr>\n",
       "\t<tr><td>71</td><td>0</td><td>112</td><td>149</td><td>125</td><td>4</td><td>Negative</td></tr>\n",
       "\t<tr><td>59</td><td>1</td><td>134</td><td>204</td><td>162</td><td>1</td><td>Positive</td></tr>\n",
       "\t<tr><td>64</td><td>1</td><td>170</td><td>227</td><td>155</td><td>1</td><td>Negative</td></tr>\n",
       "\t<tr><td>66</td><td>0</td><td>146</td><td>278</td><td>152</td><td>3</td><td>Negative</td></tr>\n",
       "\t<tr><td>39</td><td>0</td><td>138</td><td>220</td><td>152</td><td>3</td><td>Negative</td></tr>\n",
       "\t<tr><td>57</td><td>1</td><td>154</td><td>232</td><td>164</td><td>2</td><td>Positive</td></tr>\n",
       "\t<tr><td>58</td><td>0</td><td>130</td><td>197</td><td>131</td><td>4</td><td>Negative</td></tr>\n",
       "\t<tr><td>57</td><td>1</td><td>110</td><td>335</td><td>143</td><td>4</td><td>Positive</td></tr>\n",
       "\t<tr><td>47</td><td>1</td><td>130</td><td>253</td><td>179</td><td>3</td><td>Negative</td></tr>\n",
       "\t<tr><td>55</td><td>0</td><td>128</td><td>205</td><td>130</td><td>4</td><td>Positive</td></tr>\n",
       "\t<tr><td>35</td><td>1</td><td>122</td><td>192</td><td>174</td><td>2</td><td>Negative</td></tr>\n",
       "\t<tr><td>61</td><td>1</td><td>148</td><td>203</td><td>161</td><td>4</td><td>Positive</td></tr>\n",
       "\t<tr><td>58</td><td>1</td><td>114</td><td>318</td><td>140</td><td>4</td><td>Positive</td></tr>\n",
       "\t<tr><td>58</td><td>0</td><td>170</td><td>225</td><td>146</td><td>4</td><td>Positive</td></tr>\n",
       "\t<tr><td>58</td><td>1</td><td>125</td><td>220</td><td>144</td><td>2</td><td>Negative</td></tr>\n",
       "\t<tr><td>56</td><td>1</td><td>130</td><td>221</td><td>163</td><td>2</td><td>Negative</td></tr>\n",
       "\t<tr><td>56</td><td>1</td><td>120</td><td>240</td><td>169</td><td>2</td><td>Negative</td></tr>\n",
       "\t<tr><td>67</td><td>1</td><td>152</td><td>212</td><td>150</td><td>3</td><td>Positive</td></tr>\n",
       "\t<tr><td>55</td><td>0</td><td>132</td><td>342</td><td>166</td><td>2</td><td>Negative</td></tr>\n",
       "\t<tr><td>44</td><td>1</td><td>120</td><td>169</td><td>144</td><td>4</td><td>Positive</td></tr>\n",
       "\t<tr><td>63</td><td>1</td><td>140</td><td>187</td><td>144</td><td>4</td><td>Positive</td></tr>\n",
       "\t<tr><td>63</td><td>0</td><td>124</td><td>197</td><td>136</td><td>4</td><td>Positive</td></tr>\n",
       "\t<tr><td>41</td><td>1</td><td>120</td><td>157</td><td>182</td><td>2</td><td>Negative</td></tr>\n",
       "\t<tr><td>59</td><td>1</td><td>164</td><td>176</td><td> 90</td><td>4</td><td>Positive</td></tr>\n",
       "\t<tr><td>57</td><td>0</td><td>140</td><td>241</td><td>123</td><td>4</td><td>Positive</td></tr>\n",
       "\t<tr><td>45</td><td>1</td><td>110</td><td>264</td><td>132</td><td>1</td><td>Positive</td></tr>\n",
       "\t<tr><td>68</td><td>1</td><td>144</td><td>193</td><td>141</td><td>4</td><td>Positive</td></tr>\n",
       "\t<tr><td>57</td><td>1</td><td>130</td><td>131</td><td>115</td><td>4</td><td>Positive</td></tr>\n",
       "\t<tr><td>57</td><td>0</td><td>130</td><td>236</td><td>174</td><td>2</td><td>Positive</td></tr>\n",
       "\t<tr><td>38</td><td>1</td><td>138</td><td>175</td><td>173</td><td>3</td><td>Negative</td></tr>\n",
       "</tbody>\n",
       "</table>\n"
      ],
      "text/latex": [
       "A tibble: 303 × 7\n",
       "\\begin{tabular}{lllllll}\n",
       " age & sex & trestbps & chol & thalach & cp & the\\_predicted\\_attribute\\\\\n",
       " <dbl> & <dbl> & <dbl> & <dbl> & <dbl> & <dbl> & <fct>\\\\\n",
       "\\hline\n",
       "\t 63 & 1 & 145 & 233 & 150 & 1 & Negative\\\\\n",
       "\t 67 & 1 & 160 & 286 & 108 & 4 & Positive\\\\\n",
       "\t 67 & 1 & 120 & 229 & 129 & 4 & Positive\\\\\n",
       "\t 37 & 1 & 130 & 250 & 187 & 3 & Negative\\\\\n",
       "\t 41 & 0 & 130 & 204 & 172 & 2 & Negative\\\\\n",
       "\t 56 & 1 & 120 & 236 & 178 & 2 & Negative\\\\\n",
       "\t 62 & 0 & 140 & 268 & 160 & 4 & Positive\\\\\n",
       "\t 57 & 0 & 120 & 354 & 163 & 4 & Negative\\\\\n",
       "\t 63 & 1 & 130 & 254 & 147 & 4 & Positive\\\\\n",
       "\t 53 & 1 & 140 & 203 & 155 & 4 & Positive\\\\\n",
       "\t 57 & 1 & 140 & 192 & 148 & 4 & Negative\\\\\n",
       "\t 56 & 0 & 140 & 294 & 153 & 2 & Negative\\\\\n",
       "\t 56 & 1 & 130 & 256 & 142 & 3 & Positive\\\\\n",
       "\t 44 & 1 & 120 & 263 & 173 & 2 & Negative\\\\\n",
       "\t 52 & 1 & 172 & 199 & 162 & 3 & Negative\\\\\n",
       "\t 57 & 1 & 150 & 168 & 174 & 3 & Negative\\\\\n",
       "\t 48 & 1 & 110 & 229 & 168 & 2 & Positive\\\\\n",
       "\t 54 & 1 & 140 & 239 & 160 & 4 & Negative\\\\\n",
       "\t 48 & 0 & 130 & 275 & 139 & 3 & Negative\\\\\n",
       "\t 49 & 1 & 130 & 266 & 171 & 2 & Negative\\\\\n",
       "\t 64 & 1 & 110 & 211 & 144 & 1 & Negative\\\\\n",
       "\t 58 & 0 & 150 & 283 & 162 & 1 & Negative\\\\\n",
       "\t 58 & 1 & 120 & 284 & 160 & 2 & Positive\\\\\n",
       "\t 58 & 1 & 132 & 224 & 173 & 3 & Positive\\\\\n",
       "\t 60 & 1 & 130 & 206 & 132 & 4 & Positive\\\\\n",
       "\t 50 & 0 & 120 & 219 & 158 & 3 & Negative\\\\\n",
       "\t 58 & 0 & 120 & 340 & 172 & 3 & Negative\\\\\n",
       "\t 66 & 0 & 150 & 226 & 114 & 1 & Negative\\\\\n",
       "\t 43 & 1 & 150 & 247 & 171 & 4 & Negative\\\\\n",
       "\t 40 & 1 & 110 & 167 & 114 & 4 & Positive\\\\\n",
       "\t ⋮ & ⋮ & ⋮ & ⋮ & ⋮ & ⋮ & ⋮\\\\\n",
       "\t 71 & 0 & 112 & 149 & 125 & 4 & Negative\\\\\n",
       "\t 59 & 1 & 134 & 204 & 162 & 1 & Positive\\\\\n",
       "\t 64 & 1 & 170 & 227 & 155 & 1 & Negative\\\\\n",
       "\t 66 & 0 & 146 & 278 & 152 & 3 & Negative\\\\\n",
       "\t 39 & 0 & 138 & 220 & 152 & 3 & Negative\\\\\n",
       "\t 57 & 1 & 154 & 232 & 164 & 2 & Positive\\\\\n",
       "\t 58 & 0 & 130 & 197 & 131 & 4 & Negative\\\\\n",
       "\t 57 & 1 & 110 & 335 & 143 & 4 & Positive\\\\\n",
       "\t 47 & 1 & 130 & 253 & 179 & 3 & Negative\\\\\n",
       "\t 55 & 0 & 128 & 205 & 130 & 4 & Positive\\\\\n",
       "\t 35 & 1 & 122 & 192 & 174 & 2 & Negative\\\\\n",
       "\t 61 & 1 & 148 & 203 & 161 & 4 & Positive\\\\\n",
       "\t 58 & 1 & 114 & 318 & 140 & 4 & Positive\\\\\n",
       "\t 58 & 0 & 170 & 225 & 146 & 4 & Positive\\\\\n",
       "\t 58 & 1 & 125 & 220 & 144 & 2 & Negative\\\\\n",
       "\t 56 & 1 & 130 & 221 & 163 & 2 & Negative\\\\\n",
       "\t 56 & 1 & 120 & 240 & 169 & 2 & Negative\\\\\n",
       "\t 67 & 1 & 152 & 212 & 150 & 3 & Positive\\\\\n",
       "\t 55 & 0 & 132 & 342 & 166 & 2 & Negative\\\\\n",
       "\t 44 & 1 & 120 & 169 & 144 & 4 & Positive\\\\\n",
       "\t 63 & 1 & 140 & 187 & 144 & 4 & Positive\\\\\n",
       "\t 63 & 0 & 124 & 197 & 136 & 4 & Positive\\\\\n",
       "\t 41 & 1 & 120 & 157 & 182 & 2 & Negative\\\\\n",
       "\t 59 & 1 & 164 & 176 &  90 & 4 & Positive\\\\\n",
       "\t 57 & 0 & 140 & 241 & 123 & 4 & Positive\\\\\n",
       "\t 45 & 1 & 110 & 264 & 132 & 1 & Positive\\\\\n",
       "\t 68 & 1 & 144 & 193 & 141 & 4 & Positive\\\\\n",
       "\t 57 & 1 & 130 & 131 & 115 & 4 & Positive\\\\\n",
       "\t 57 & 0 & 130 & 236 & 174 & 2 & Positive\\\\\n",
       "\t 38 & 1 & 138 & 175 & 173 & 3 & Negative\\\\\n",
       "\\end{tabular}\n"
      ],
      "text/markdown": [
       "\n",
       "A tibble: 303 × 7\n",
       "\n",
       "| age &lt;dbl&gt; | sex &lt;dbl&gt; | trestbps &lt;dbl&gt; | chol &lt;dbl&gt; | thalach &lt;dbl&gt; | cp &lt;dbl&gt; | the_predicted_attribute &lt;fct&gt; |\n",
       "|---|---|---|---|---|---|---|\n",
       "| 63 | 1 | 145 | 233 | 150 | 1 | Negative |\n",
       "| 67 | 1 | 160 | 286 | 108 | 4 | Positive |\n",
       "| 67 | 1 | 120 | 229 | 129 | 4 | Positive |\n",
       "| 37 | 1 | 130 | 250 | 187 | 3 | Negative |\n",
       "| 41 | 0 | 130 | 204 | 172 | 2 | Negative |\n",
       "| 56 | 1 | 120 | 236 | 178 | 2 | Negative |\n",
       "| 62 | 0 | 140 | 268 | 160 | 4 | Positive |\n",
       "| 57 | 0 | 120 | 354 | 163 | 4 | Negative |\n",
       "| 63 | 1 | 130 | 254 | 147 | 4 | Positive |\n",
       "| 53 | 1 | 140 | 203 | 155 | 4 | Positive |\n",
       "| 57 | 1 | 140 | 192 | 148 | 4 | Negative |\n",
       "| 56 | 0 | 140 | 294 | 153 | 2 | Negative |\n",
       "| 56 | 1 | 130 | 256 | 142 | 3 | Positive |\n",
       "| 44 | 1 | 120 | 263 | 173 | 2 | Negative |\n",
       "| 52 | 1 | 172 | 199 | 162 | 3 | Negative |\n",
       "| 57 | 1 | 150 | 168 | 174 | 3 | Negative |\n",
       "| 48 | 1 | 110 | 229 | 168 | 2 | Positive |\n",
       "| 54 | 1 | 140 | 239 | 160 | 4 | Negative |\n",
       "| 48 | 0 | 130 | 275 | 139 | 3 | Negative |\n",
       "| 49 | 1 | 130 | 266 | 171 | 2 | Negative |\n",
       "| 64 | 1 | 110 | 211 | 144 | 1 | Negative |\n",
       "| 58 | 0 | 150 | 283 | 162 | 1 | Negative |\n",
       "| 58 | 1 | 120 | 284 | 160 | 2 | Positive |\n",
       "| 58 | 1 | 132 | 224 | 173 | 3 | Positive |\n",
       "| 60 | 1 | 130 | 206 | 132 | 4 | Positive |\n",
       "| 50 | 0 | 120 | 219 | 158 | 3 | Negative |\n",
       "| 58 | 0 | 120 | 340 | 172 | 3 | Negative |\n",
       "| 66 | 0 | 150 | 226 | 114 | 1 | Negative |\n",
       "| 43 | 1 | 150 | 247 | 171 | 4 | Negative |\n",
       "| 40 | 1 | 110 | 167 | 114 | 4 | Positive |\n",
       "| ⋮ | ⋮ | ⋮ | ⋮ | ⋮ | ⋮ | ⋮ |\n",
       "| 71 | 0 | 112 | 149 | 125 | 4 | Negative |\n",
       "| 59 | 1 | 134 | 204 | 162 | 1 | Positive |\n",
       "| 64 | 1 | 170 | 227 | 155 | 1 | Negative |\n",
       "| 66 | 0 | 146 | 278 | 152 | 3 | Negative |\n",
       "| 39 | 0 | 138 | 220 | 152 | 3 | Negative |\n",
       "| 57 | 1 | 154 | 232 | 164 | 2 | Positive |\n",
       "| 58 | 0 | 130 | 197 | 131 | 4 | Negative |\n",
       "| 57 | 1 | 110 | 335 | 143 | 4 | Positive |\n",
       "| 47 | 1 | 130 | 253 | 179 | 3 | Negative |\n",
       "| 55 | 0 | 128 | 205 | 130 | 4 | Positive |\n",
       "| 35 | 1 | 122 | 192 | 174 | 2 | Negative |\n",
       "| 61 | 1 | 148 | 203 | 161 | 4 | Positive |\n",
       "| 58 | 1 | 114 | 318 | 140 | 4 | Positive |\n",
       "| 58 | 0 | 170 | 225 | 146 | 4 | Positive |\n",
       "| 58 | 1 | 125 | 220 | 144 | 2 | Negative |\n",
       "| 56 | 1 | 130 | 221 | 163 | 2 | Negative |\n",
       "| 56 | 1 | 120 | 240 | 169 | 2 | Negative |\n",
       "| 67 | 1 | 152 | 212 | 150 | 3 | Positive |\n",
       "| 55 | 0 | 132 | 342 | 166 | 2 | Negative |\n",
       "| 44 | 1 | 120 | 169 | 144 | 4 | Positive |\n",
       "| 63 | 1 | 140 | 187 | 144 | 4 | Positive |\n",
       "| 63 | 0 | 124 | 197 | 136 | 4 | Positive |\n",
       "| 41 | 1 | 120 | 157 | 182 | 2 | Negative |\n",
       "| 59 | 1 | 164 | 176 |  90 | 4 | Positive |\n",
       "| 57 | 0 | 140 | 241 | 123 | 4 | Positive |\n",
       "| 45 | 1 | 110 | 264 | 132 | 1 | Positive |\n",
       "| 68 | 1 | 144 | 193 | 141 | 4 | Positive |\n",
       "| 57 | 1 | 130 | 131 | 115 | 4 | Positive |\n",
       "| 57 | 0 | 130 | 236 | 174 | 2 | Positive |\n",
       "| 38 | 1 | 138 | 175 | 173 | 3 | Negative |\n",
       "\n"
      ],
      "text/plain": [
       "    age sex trestbps chol thalach cp the_predicted_attribute\n",
       "1   63  1   145      233  150     1  Negative               \n",
       "2   67  1   160      286  108     4  Positive               \n",
       "3   67  1   120      229  129     4  Positive               \n",
       "4   37  1   130      250  187     3  Negative               \n",
       "5   41  0   130      204  172     2  Negative               \n",
       "6   56  1   120      236  178     2  Negative               \n",
       "7   62  0   140      268  160     4  Positive               \n",
       "8   57  0   120      354  163     4  Negative               \n",
       "9   63  1   130      254  147     4  Positive               \n",
       "10  53  1   140      203  155     4  Positive               \n",
       "11  57  1   140      192  148     4  Negative               \n",
       "12  56  0   140      294  153     2  Negative               \n",
       "13  56  1   130      256  142     3  Positive               \n",
       "14  44  1   120      263  173     2  Negative               \n",
       "15  52  1   172      199  162     3  Negative               \n",
       "16  57  1   150      168  174     3  Negative               \n",
       "17  48  1   110      229  168     2  Positive               \n",
       "18  54  1   140      239  160     4  Negative               \n",
       "19  48  0   130      275  139     3  Negative               \n",
       "20  49  1   130      266  171     2  Negative               \n",
       "21  64  1   110      211  144     1  Negative               \n",
       "22  58  0   150      283  162     1  Negative               \n",
       "23  58  1   120      284  160     2  Positive               \n",
       "24  58  1   132      224  173     3  Positive               \n",
       "25  60  1   130      206  132     4  Positive               \n",
       "26  50  0   120      219  158     3  Negative               \n",
       "27  58  0   120      340  172     3  Negative               \n",
       "28  66  0   150      226  114     1  Negative               \n",
       "29  43  1   150      247  171     4  Negative               \n",
       "30  40  1   110      167  114     4  Positive               \n",
       "⋮   ⋮   ⋮   ⋮        ⋮    ⋮       ⋮  ⋮                      \n",
       "274 71  0   112      149  125     4  Negative               \n",
       "275 59  1   134      204  162     1  Positive               \n",
       "276 64  1   170      227  155     1  Negative               \n",
       "277 66  0   146      278  152     3  Negative               \n",
       "278 39  0   138      220  152     3  Negative               \n",
       "279 57  1   154      232  164     2  Positive               \n",
       "280 58  0   130      197  131     4  Negative               \n",
       "281 57  1   110      335  143     4  Positive               \n",
       "282 47  1   130      253  179     3  Negative               \n",
       "283 55  0   128      205  130     4  Positive               \n",
       "284 35  1   122      192  174     2  Negative               \n",
       "285 61  1   148      203  161     4  Positive               \n",
       "286 58  1   114      318  140     4  Positive               \n",
       "287 58  0   170      225  146     4  Positive               \n",
       "288 58  1   125      220  144     2  Negative               \n",
       "289 56  1   130      221  163     2  Negative               \n",
       "290 56  1   120      240  169     2  Negative               \n",
       "291 67  1   152      212  150     3  Positive               \n",
       "292 55  0   132      342  166     2  Negative               \n",
       "293 44  1   120      169  144     4  Positive               \n",
       "294 63  1   140      187  144     4  Positive               \n",
       "295 63  0   124      197  136     4  Positive               \n",
       "296 41  1   120      157  182     2  Negative               \n",
       "297 59  1   164      176   90     4  Positive               \n",
       "298 57  0   140      241  123     4  Positive               \n",
       "299 45  1   110      264  132     1  Positive               \n",
       "300 68  1   144      193  141     4  Positive               \n",
       "301 57  1   130      131  115     4  Positive               \n",
       "302 57  0   130      236  174     2  Positive               \n",
       "303 38  1   138      175  173     3  Negative               "
      ]
     },
     "metadata": {},
     "output_type": "display_data"
    }
   ],
   "source": [
    "# Set the seed\n",
    "set.seed(4)\n",
    "\n",
    "# Reading, Cleaining, and Wrangling\n",
    "\n",
    "# Reading in the Cleaveland Heart Disease data\n",
    "rd <-read_csv(\"https://archive.ics.uci.edu/ml/machine-learning-databases/heart-disease/processed.cleveland.data\",\n",
    "             col_names=c(\"age\",\"sex\",\"cp\",\"trestbps\",\"chol\",\"fbs\",\"restecg\",\"thalach\",\"exang\",\"oldpeak\",\"slope\",\"ca\",\"thal\",\"the_predicted_attribute\"))\n",
    "\n",
    "# Selecting the five initial predictors\n",
    "HD_selected<-select(rd,age,sex,trestbps,chol,thalach,cp,the_predicted_attribute)\n",
    "\n",
    "# Mutating the data to convert the \"predicted attribute\", or incidence of heart disease, into a binary factor of either \"Positive\" for presence, or \"Negative\" for absence\n",
    "HD_mutated <-HD_selected%>%\n",
    "            mutate(the_predicted_attribute=ifelse(the_predicted_attribute==0,\"Negative\",\"Positive\"))%>%\n",
    "            mutate(the_predicted_attribute=as.factor(the_predicted_attribute))\n",
    "\n",
    "print(\"Cleaveland Heart Disease Data (clean)\")\n",
    "HD_mutated"
   ]
  },
  {
   "cell_type": "code",
   "execution_count": 10,
   "metadata": {},
   "outputs": [
    {
     "name": "stderr",
     "output_type": "stream",
     "text": [
      "`summarise()` regrouping output by 'sex' (override with `.groups` argument)\n",
      "\n",
      "`summarise()` ungrouping output (override with `.groups` argument)\n",
      "\n",
      "`summarise()` ungrouping output (override with `.groups` argument)\n",
      "\n",
      "`summarise()` ungrouping output (override with `.groups` argument)\n",
      "\n"
     ]
    },
    {
     "data": {
      "text/html": [
       "<table>\n",
       "<caption>A grouped_df: 4 × 5</caption>\n",
       "<thead>\n",
       "\t<tr><th scope=col>sex</th><th scope=col>the_predicted_attribute</th><th scope=col>mean(chol)</th><th scope=col>mean(thalach)</th><th scope=col>mean(trestbps)</th></tr>\n",
       "\t<tr><th scope=col>&lt;chr&gt;</th><th scope=col>&lt;fct&gt;</th><th scope=col>&lt;dbl&gt;</th><th scope=col>&lt;dbl&gt;</th><th scope=col>&lt;dbl&gt;</th></tr>\n",
       "</thead>\n",
       "<tbody>\n",
       "\t<tr><td>Female</td><td>Negative</td><td>256.7500</td><td>154.0278</td><td>128.7361</td></tr>\n",
       "\t<tr><td>Female</td><td>Positive</td><td>276.1600</td><td>143.1600</td><td>146.6000</td></tr>\n",
       "\t<tr><td>Male  </td><td>Negative</td><td>231.5978</td><td>161.7826</td><td>129.6522</td></tr>\n",
       "\t<tr><td>Male  </td><td>Positive</td><td>246.0614</td><td>138.4035</td><td>131.9298</td></tr>\n",
       "</tbody>\n",
       "</table>\n"
      ],
      "text/latex": [
       "A grouped\\_df: 4 × 5\n",
       "\\begin{tabular}{lllll}\n",
       " sex & the\\_predicted\\_attribute & mean(chol) & mean(thalach) & mean(trestbps)\\\\\n",
       " <chr> & <fct> & <dbl> & <dbl> & <dbl>\\\\\n",
       "\\hline\n",
       "\t Female & Negative & 256.7500 & 154.0278 & 128.7361\\\\\n",
       "\t Female & Positive & 276.1600 & 143.1600 & 146.6000\\\\\n",
       "\t Male   & Negative & 231.5978 & 161.7826 & 129.6522\\\\\n",
       "\t Male   & Positive & 246.0614 & 138.4035 & 131.9298\\\\\n",
       "\\end{tabular}\n"
      ],
      "text/markdown": [
       "\n",
       "A grouped_df: 4 × 5\n",
       "\n",
       "| sex &lt;chr&gt; | the_predicted_attribute &lt;fct&gt; | mean(chol) &lt;dbl&gt; | mean(thalach) &lt;dbl&gt; | mean(trestbps) &lt;dbl&gt; |\n",
       "|---|---|---|---|---|\n",
       "| Female | Negative | 256.7500 | 154.0278 | 128.7361 |\n",
       "| Female | Positive | 276.1600 | 143.1600 | 146.6000 |\n",
       "| Male   | Negative | 231.5978 | 161.7826 | 129.6522 |\n",
       "| Male   | Positive | 246.0614 | 138.4035 | 131.9298 |\n",
       "\n"
      ],
      "text/plain": [
       "  sex    the_predicted_attribute mean(chol) mean(thalach) mean(trestbps)\n",
       "1 Female Negative                256.7500   154.0278      128.7361      \n",
       "2 Female Positive                276.1600   143.1600      146.6000      \n",
       "3 Male   Negative                231.5978   161.7826      129.6522      \n",
       "4 Male   Positive                246.0614   138.4035      131.9298      "
      ]
     },
     "metadata": {},
     "output_type": "display_data"
    },
    {
     "data": {
      "text/html": [
       "'Fig 1.0: Mean values of cholesterol (chol), maximum heart rate (thalach), and resting blood pressure (trestbps)'"
      ],
      "text/latex": [
       "'Fig 1.0: Mean values of cholesterol (chol), maximum heart rate (thalach), and resting blood pressure (trestbps)'"
      ],
      "text/markdown": [
       "'Fig 1.0: Mean values of cholesterol (chol), maximum heart rate (thalach), and resting blood pressure (trestbps)'"
      ],
      "text/plain": [
       "[1] \"Fig 1.0: Mean values of cholesterol (chol), maximum heart rate (thalach), and resting blood pressure (trestbps)\""
      ]
     },
     "metadata": {},
     "output_type": "display_data"
    },
    {
     "data": {
      "text/html": [
       "<table>\n",
       "<caption>A tibble: 2 × 3</caption>\n",
       "<thead>\n",
       "\t<tr><th scope=col>the_predicted_attribute</th><th scope=col>mean</th><th scope=col>median</th></tr>\n",
       "\t<tr><th scope=col>&lt;fct&gt;</th><th scope=col>&lt;dbl&gt;</th><th scope=col>&lt;dbl&gt;</th></tr>\n",
       "</thead>\n",
       "<tbody>\n",
       "\t<tr><td>Negative</td><td>129.2500</td><td>130</td></tr>\n",
       "\t<tr><td>Positive</td><td>134.5683</td><td>130</td></tr>\n",
       "</tbody>\n",
       "</table>\n"
      ],
      "text/latex": [
       "A tibble: 2 × 3\n",
       "\\begin{tabular}{lll}\n",
       " the\\_predicted\\_attribute & mean & median\\\\\n",
       " <fct> & <dbl> & <dbl>\\\\\n",
       "\\hline\n",
       "\t Negative & 129.2500 & 130\\\\\n",
       "\t Positive & 134.5683 & 130\\\\\n",
       "\\end{tabular}\n"
      ],
      "text/markdown": [
       "\n",
       "A tibble: 2 × 3\n",
       "\n",
       "| the_predicted_attribute &lt;fct&gt; | mean &lt;dbl&gt; | median &lt;dbl&gt; |\n",
       "|---|---|---|\n",
       "| Negative | 129.2500 | 130 |\n",
       "| Positive | 134.5683 | 130 |\n",
       "\n"
      ],
      "text/plain": [
       "  the_predicted_attribute mean     median\n",
       "1 Negative                129.2500 130   \n",
       "2 Positive                134.5683 130   "
      ]
     },
     "metadata": {},
     "output_type": "display_data"
    },
    {
     "data": {
      "text/html": [
       "'Fig 1.1: Median and mean resting blood pressure (trestbps)'"
      ],
      "text/latex": [
       "'Fig 1.1: Median and mean resting blood pressure (trestbps)'"
      ],
      "text/markdown": [
       "'Fig 1.1: Median and mean resting blood pressure (trestbps)'"
      ],
      "text/plain": [
       "[1] \"Fig 1.1: Median and mean resting blood pressure (trestbps)\""
      ]
     },
     "metadata": {},
     "output_type": "display_data"
    },
    {
     "data": {
      "text/html": [
       "<table>\n",
       "<caption>A tibble: 2 × 3</caption>\n",
       "<thead>\n",
       "\t<tr><th scope=col>the_predicted_attribute</th><th scope=col>mean</th><th scope=col>median</th></tr>\n",
       "\t<tr><th scope=col>&lt;fct&gt;</th><th scope=col>&lt;dbl&gt;</th><th scope=col>&lt;dbl&gt;</th></tr>\n",
       "</thead>\n",
       "<tbody>\n",
       "\t<tr><td>Negative</td><td>242.6402</td><td>234.5</td></tr>\n",
       "\t<tr><td>Positive</td><td>251.4748</td><td>249.0</td></tr>\n",
       "</tbody>\n",
       "</table>\n"
      ],
      "text/latex": [
       "A tibble: 2 × 3\n",
       "\\begin{tabular}{lll}\n",
       " the\\_predicted\\_attribute & mean & median\\\\\n",
       " <fct> & <dbl> & <dbl>\\\\\n",
       "\\hline\n",
       "\t Negative & 242.6402 & 234.5\\\\\n",
       "\t Positive & 251.4748 & 249.0\\\\\n",
       "\\end{tabular}\n"
      ],
      "text/markdown": [
       "\n",
       "A tibble: 2 × 3\n",
       "\n",
       "| the_predicted_attribute &lt;fct&gt; | mean &lt;dbl&gt; | median &lt;dbl&gt; |\n",
       "|---|---|---|\n",
       "| Negative | 242.6402 | 234.5 |\n",
       "| Positive | 251.4748 | 249.0 |\n",
       "\n"
      ],
      "text/plain": [
       "  the_predicted_attribute mean     median\n",
       "1 Negative                242.6402 234.5 \n",
       "2 Positive                251.4748 249.0 "
      ]
     },
     "metadata": {},
     "output_type": "display_data"
    },
    {
     "data": {
      "text/html": [
       "'Fig 1.2: Median and mean cholesterol (chol)'"
      ],
      "text/latex": [
       "'Fig 1.2: Median and mean cholesterol (chol)'"
      ],
      "text/markdown": [
       "'Fig 1.2: Median and mean cholesterol (chol)'"
      ],
      "text/plain": [
       "[1] \"Fig 1.2: Median and mean cholesterol (chol)\""
      ]
     },
     "metadata": {},
     "output_type": "display_data"
    },
    {
     "data": {
      "text/html": [
       "<table>\n",
       "<caption>A tibble: 2 × 3</caption>\n",
       "<thead>\n",
       "\t<tr><th scope=col>the_predicted_attribute</th><th scope=col>mean</th><th scope=col>median</th></tr>\n",
       "\t<tr><th scope=col>&lt;fct&gt;</th><th scope=col>&lt;dbl&gt;</th><th scope=col>&lt;dbl&gt;</th></tr>\n",
       "</thead>\n",
       "<tbody>\n",
       "\t<tr><td>Negative</td><td>52.58537</td><td>52</td></tr>\n",
       "\t<tr><td>Positive</td><td>56.62590</td><td>58</td></tr>\n",
       "</tbody>\n",
       "</table>\n"
      ],
      "text/latex": [
       "A tibble: 2 × 3\n",
       "\\begin{tabular}{lll}\n",
       " the\\_predicted\\_attribute & mean & median\\\\\n",
       " <fct> & <dbl> & <dbl>\\\\\n",
       "\\hline\n",
       "\t Negative & 52.58537 & 52\\\\\n",
       "\t Positive & 56.62590 & 58\\\\\n",
       "\\end{tabular}\n"
      ],
      "text/markdown": [
       "\n",
       "A tibble: 2 × 3\n",
       "\n",
       "| the_predicted_attribute &lt;fct&gt; | mean &lt;dbl&gt; | median &lt;dbl&gt; |\n",
       "|---|---|---|\n",
       "| Negative | 52.58537 | 52 |\n",
       "| Positive | 56.62590 | 58 |\n",
       "\n"
      ],
      "text/plain": [
       "  the_predicted_attribute mean     median\n",
       "1 Negative                52.58537 52    \n",
       "2 Positive                56.62590 58    "
      ]
     },
     "metadata": {},
     "output_type": "display_data"
    },
    {
     "data": {
      "text/html": [
       "'Fig 1.3: Median and mean age (age)'"
      ],
      "text/latex": [
       "'Fig 1.3: Median and mean age (age)'"
      ],
      "text/markdown": [
       "'Fig 1.3: Median and mean age (age)'"
      ],
      "text/plain": [
       "[1] \"Fig 1.3: Median and mean age (age)\""
      ]
     },
     "metadata": {},
     "output_type": "display_data"
    }
   ],
   "source": [
    "# Summarizing data for exploratory analysis\n",
    "\n",
    "# Data frame used to show difference in sex and unforseen thalach observation\n",
    "HD_summarize <- HD_mutated %>%\n",
    "                group_by(sex,the_predicted_attribute)%>%\n",
    "                summarize(mean(chol),mean(thalach),mean(trestbps))%>%\n",
    "                mutate(sex=ifelse(sex==1,\"Male\",\"Female\"))\n",
    "\n",
    "# Data frame used to show similar median/mean to justify removing trestbps\n",
    "HD_summarize_2 <- HD_mutated %>%\n",
    "                group_by(the_predicted_attribute) %>%\n",
    "                summarize(mean=mean(trestbps),median=median(trestbps))\n",
    "\n",
    "# Data frame used to observe the slight skew in higher cholesterol levels for positive cases\n",
    "HD_summarize_3 <- HD_mutated %>%\n",
    "                group_by(the_predicted_attribute)%>%\n",
    "                summarize(mean=mean(chol),median=median(chol))\n",
    "\n",
    "# Data frame used to find the mean age in the data set\n",
    "HD_summarize_4 <- HD_mutated %>%\n",
    "                group_by(the_predicted_attribute)%>%\n",
    "                summarize(mean=mean(age),median=median(age))\n",
    "\n",
    "# Printing out data frames for exploratory data analysis\n",
    "HD_summarize\n",
    "paste(\"Fig 1.0: Mean values of cholesterol (chol), maximum heart rate (thalach), and resting blood pressure (trestbps)\")\n",
    "HD_summarize_2\n",
    "paste(\"Fig 1.1: Median and mean resting blood pressure (trestbps)\")\n",
    "HD_summarize_3\n",
    "paste(\"Fig 1.2: Median and mean cholesterol (chol)\")\n",
    "HD_summarize_4\n",
    "paste(\"Fig 1.3: Median and mean age (age)\")"
   ]
  },
  {
   "cell_type": "code",
   "execution_count": null,
   "metadata": {},
   "outputs": [],
   "source": [
    "# Plot used to visualize thalach\n",
    "thalach_plot <- ggplot(HD_mutated,aes(x=thalach,fill=the_predicted_attribute))+\n",
    "                    geom_histogram(binwidth = 8) +\n",
    "                    facet_grid(rows = vars(the_predicted_attribute)) +\n",
    "                    labs(x = \"Maximum Heart Rate (beats/min)\", fill = \"Incidence of Heart Disease\") +\n",
    "                    ggtitle(\"Maximum Heart Rate Histogram\")\n",
    "\n",
    "# Plot used to visualize trestbps\n",
    "trestbps_plot <- ggplot(HD_mutated,aes(x=trestbps,fill=the_predicted_attribute))+\n",
    "                    geom_histogram(binwidth = 8) +\n",
    "                    facet_grid(rows = vars(the_predicted_attribute)) +\n",
    "                    labs(x = \"Resting Blood Pressure (mm Hg)\", fill = \"Incidence of Heart Disease\") +\n",
    "                    ggtitle(\"Resting Blood Pressure Histogram\")\n",
    "\n",
    "# Plot used to visualize cholesterol\n",
    "chol_plot <- ggplot(HD_mutated,aes(x=chol,fill=the_predicted_attribute))+\n",
    "                geom_histogram(binwidth = 30) +\n",
    "                facet_grid(rows = vars(the_predicted_attribute)) +\n",
    "                labs(x = \"Cholesterol (mg/dl)\", fill = \"Incidence of Heart Disease\") +\n",
    "                ggtitle(\"Cholesterol Histogram\")\n",
    "\n",
    "# Plot used to visualize chest pain\n",
    "cp_plot <- ggplot(HD_mutated,aes(x = cp,fill = the_predicted_attribute))+\n",
    "                geom_histogram() +\n",
    "                labs(x = \"Chest Pain (scale of 1-4)\", fill = \"Incidence of Heart Disease\") +\n",
    "                ggtitle(\"Chest Pain Histogram\")\n",
    "\n",
    "# Printing out plots\n",
    "thalach_plot\n",
    "trestbps_plot\n",
    "chol_plot\n",
    "cp_plot"
   ]
  },
  {
   "cell_type": "code",
   "execution_count": null,
   "metadata": {},
   "outputs": [],
   "source": [
    "# Set the seed\n",
    "set.seed(4)\n",
    "\n",
    "# Classification Model \n",
    "\n",
    "# Training/Test split\n",
    "HD_split <- initial_split(HD_mutated, prop = 3/4, strata = the_predicted_attribute)  \n",
    "HD_train <- training(HD_split)   \n",
    "HD_test  <- testing(HD_split)\n",
    "\n",
    "# 5 fold cross-validation\n",
    "HD_vfold<-vfold_cv(HD_train, v = 5, strata = the_predicted_attribute)\n",
    "\n",
    "# Recipe\n",
    "HD_recipe<-recipe(the_predicted_attribute ~age+sex+thalach+chol+cp, data=HD_train) %>%\n",
    "                step_scale(all_predictors()) %>%\n",
    "                step_center(all_predictors())\n",
    "\n",
    "# Model specification (tuning)\n",
    "HD_spec<- nearest_neighbor(weight_func =\"rectangular\" , neighbors = tune()) %>% \n",
    "       set_engine(\"kknn\") %>%\n",
    "       set_mode(\"classification\")\n",
    "\n",
    "# Workflow\n",
    "HD_fit <- workflow() %>%\n",
    "       add_recipe(HD_recipe) %>%\n",
    "       add_model(HD_spec) %>%\n",
    "       tune_grid(resamples = HD_vfold, grid = tibble(neighbors = seq(from = 1, to = 60))) %>%\n",
    "       collect_metrics()\n",
    "\n",
    "# Accuracy metrics to pick optimal K\n",
    "accuracy_graph<-HD_fit%>%\n",
    "        filter(.metric==\"accuracy\")%>%\n",
    "        ggplot(aes(x=neighbors,y=mean))+\n",
    "        geom_line()\n",
    "accuracy_graph\n",
    "\n",
    "# Recreating model specification with optimal K\n",
    "HD_best_spec<- nearest_neighbor(weight_func =\"rectangular\" , neighbors = 52) %>%\n",
    "       set_engine(\"kknn\") %>%\n",
    "       set_mode(\"classification\")\n",
    "\n",
    "# Fitting the model with optimal K (same recipe, new model specification)\n",
    "HD_best_fit <- workflow() %>%\n",
    "       add_recipe(HD_recipe) %>%\n",
    "       add_model(HD_best_spec) %>%\n",
    "       fit(data=HD_train)\n",
    "\n",
    "# Predicting\n",
    "HD_test_predictions<-predict(HD_best_fit,HD_test)%>%\n",
    "            bind_cols(HD_test)\n",
    "\n",
    "# Prediction accuracy and confusion matrix\n",
    "HD_prediction_accuracy <- HD_test_predictions %>%\n",
    "         metrics(truth = the_predicted_attribute, estimate = .pred_class) %>%\n",
    "         filter(.metric == \"accuracy\")\n",
    "HD_prediction_accuracy\n",
    "paste(\"Fig 2.0: Accuracy metrics for tuned model\")\n",
    "\n",
    "HD_confusion_matrix <- conf_mat(HD_test_predictions,truth = the_predicted_attribute, estimate = .pred_class)\n",
    "HD_confusion_matrix\n",
    "paste(\"Fig 2.1: Confusion matrix for tuned model\")"
   ]
  },
  {
   "cell_type": "code",
   "execution_count": null,
   "metadata": {},
   "outputs": [],
   "source": [
    "# Final visualization for data analysis\n",
    "graph_analysis <- HD_mutated%>%\n",
    "                ggplot()+\n",
    "                geom_point(data=HD_test,\n",
    "                    mapping = aes(x = chol, \n",
    "                    y = thalach, \n",
    "                    color = the_predicted_attribute),\n",
    "                    alpha = 0.75) +\n",
    "                geom_point(data=HD_test_predictions,\n",
    "                    mapping = aes(x = chol, \n",
    "                    y = thalach, \n",
    "                    color = the_predicted_attribute),\n",
    "                    alpha= 0.5,\n",
    "                    size= 5) +\n",
    "                scale_color_manual(labels = c(\"Positive\", \"Negative\"), \n",
    "                    values = c(\"orange\", \"steelblue\")) +\n",
    "                ggtitle(\"Maximum Heart Rate vs. Cholesterol\") +\n",
    "                labs(x = \"Cholesterol (mg/dl)\", y = \"Maximum Heart Rate (beats/min)\", color = \"Incidence of Heart Disease\")\n",
    "graph_analysis\n",
    "\n",
    "graph_analysis_2<-HD_test%>%\n",
    "ggplot()+\n",
    "geom_density_2d(data=HD_test_predictions,aes(x=chol,y=thalach,color=.pred_class))+\n",
    "geom_point(data=HD_train,aes(x=chol,y=thalach,color=the_predicted_attribute))+\n",
    "labs(x = \"Cholesterol (mg/dl)\", y = \"Maximum Heart Rate (beats/min)\")\n",
    "graph_analysis_2"
   ]
  },
  {
   "cell_type": "markdown",
   "metadata": {},
   "source": [
    "## Discussion\n",
    "\n",
    "   In our proposal, we expect to find positive correlations between heart disease and cholesterol, resting blood pressure, and maximum heart rate, since these indications are linked to heart disease in scientific literature. While we observed a positive correlation between the presence of heart disease and cholesterol, we also found that the correlation between heart rate and heart disease is in fact negative. Individuals with no heart disease have a higher maximum heart rate compared to the patients, which contradicted our previous expectations. Moreover, we did not find any correlation between resting blood pressure and the presence of heart disease. For positive and negative patients, the data distribution of resting blood pressure is almost identical, which is also the reason we decided to remove this predictor from our model. The effect of sex is also unexpected. In our dataset, we found that males and females have different mean values of their blood pressure, cholesterol levels and maximum heart rate, controlling the presence of heart disease. Therefore, we believe sex is correlated to heart disease and should be used as a predictor. Positive patients also have higher mean age than negative individuals, which suggests that age is also a important predictor in our model. With cholesterol, maximum heart rate, age, sex and chest pain level as the predictors, our model has an accuracy of 82 percent when using k = 52. \n",
    "   \n",
    "   These findings are important to inform the general public on potential risk factors for heart disease, serving as preventive knowledge. Individuals with high cholesterol and abnormal levels of chest pain should be aware of the risk for heart disease and should seek medical attention for further guidance. Variables in our project such as maximum heart rate, which demonstrate an unexpected negative correlation with heart disease, should be studied to better understand maximum heart rates' role in heart disease diagnosis. The effects of sex and age should also be considered. Future data analysis should apply this model to larger and different datasets, and determine whether our findings can be applied to rare or more extreme cases of heart disease.\n"
   ]
  },
  {
   "cell_type": "markdown",
   "metadata": {},
   "source": [
    "## References\n",
    "\n",
    "Aha, D. (2019). Heart Disease Data Set. UCI Machine Learning Repository. https://archive.ics.uci.edu/ml/citation_policy.html \n",
    "\n",
    "Lennep, J., Westerveld, H., Erkelens, D., & Van der Wall, E. (2002). Risk factors for coronary heart disease: implications of gender. Cardiovascular Research. 53(3). 538-549.  https://doi.org/10.1016/S0008-6363(01)00388-1\n",
    "\n",
    "Thayer, J., Yamamoto, S., & Brosschot, J. (2010). The relationship of autonomic imbalance, heart rate variability and cardiovascular disease risk factors. Internal Journal of Cardiology, 141(2). 122-131. https://doi.org/10.1016/j.ijcard.2009.09.543"
   ]
  },
  {
   "cell_type": "code",
   "execution_count": null,
   "metadata": {},
   "outputs": [],
   "source": []
  }
 ],
 "metadata": {
  "kernelspec": {
   "display_name": "R",
   "language": "R",
   "name": "ir"
  },
  "language_info": {
   "codemirror_mode": "r",
   "file_extension": ".r",
   "mimetype": "text/x-r-source",
   "name": "R",
   "pygments_lexer": "r",
   "version": "4.0.0"
  }
 },
 "nbformat": 4,
 "nbformat_minor": 4
}
